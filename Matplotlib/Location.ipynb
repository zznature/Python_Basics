{
 "cells": [
  {
   "cell_type": "markdown",
   "metadata": {},
   "source": [
    "# Inset Locator \n",
    "The inset_locator's `inset_axes` allows easily placing insets in the corners of the axes by specifying a width and height and optionally a location (loc) that accepts locations as codes, similar to legend. By default, the inset is offset by some points from the axes, controlled via the borderpad parameter.\n",
    "\n",
    "The parameters `bbox_to_anchor` and `bbox_transform` can be used for a more fine grained control over the inset position and size or even to position the inset at completely arbitrary positions. The bbox_to_anchor sets the bounding box in coordinates according to the bbox_transform.\n",
    "https://matplotlib.org/stable/gallery/axes_grid1/inset_locator_demo.html"
   ]
  }
 ],
 "metadata": {
  "kernelspec": {
   "display_name": "Python 3.9.12 ('base')",
   "language": "python",
   "name": "python3"
  },
  "language_info": {
   "name": "python",
   "version": "3.9.12"
  },
  "orig_nbformat": 4,
  "vscode": {
   "interpreter": {
    "hash": "ad2bdc8ecc057115af97d19610ffacc2b4e99fae6737bb82f5d7fb13d2f2c186"
   }
  }
 },
 "nbformat": 4,
 "nbformat_minor": 2
}
