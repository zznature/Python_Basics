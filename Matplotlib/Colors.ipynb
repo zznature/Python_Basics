{
 "cells": [
  {
   "cell_type": "markdown",
   "metadata": {},
   "source": [
    "# Colors\n",
    "\n",
    "Matplotlib has support for visualizing information with a wide array of colors and colormaps. These tutorials cover the basics of how these colormaps look, how you can create your own, and how you can customize colormaps for your use case.\n",
    "\n",
    "From the `Matplotlib official tutorials` https://matplotlib.org/stable/tutorials/colors/index.html"
   ]
  },
  {
   "cell_type": "markdown",
   "metadata": {},
   "source": [
    "## Classes of colormaps\n",
    "\n",
    "Colormaps are often split into several categories based on their function (see, e.g., [Moreland]):\n",
    "\n",
    "**Sequential**: change in lightness and often saturation of color incrementally, often using a single hue; should be used for representing information that has ordering.\n",
    "![image](https://matplotlib.org/stable/_images/sphx_glr_colormaps_001_2_0x.png)\n",
    "\n",
    "**Diverging**: change in lightness and possibly saturation of two different colors that meet in the middle at an unsaturated color; should be used when the information being plotted has a critical middle value, such as topography or when the data deviates around zero.\n",
    "\n",
    "**Cyclic**: change in lightness of two different colors that meet in the middle and beginning/end at an unsaturated color; should be used for values that wrap around at the endpoints, such as phase angle, wind direction, or time of day.\n",
    "\n",
    "**Qualitative**: often are miscellaneous colors; should be used to represent information which does not have ordering or relationships."
   ]
  }
 ],
 "metadata": {
  "kernelspec": {
   "display_name": "Python 3.9.12 ('base')",
   "language": "python",
   "name": "python3"
  },
  "language_info": {
   "name": "python",
   "version": "3.9.12"
  },
  "orig_nbformat": 4,
  "vscode": {
   "interpreter": {
    "hash": "ad2bdc8ecc057115af97d19610ffacc2b4e99fae6737bb82f5d7fb13d2f2c186"
   }
  }
 },
 "nbformat": 4,
 "nbformat_minor": 2
}
