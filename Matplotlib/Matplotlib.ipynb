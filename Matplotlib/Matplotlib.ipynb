{
 "cells": [
  {
   "cell_type": "markdown",
   "metadata": {},
   "source": [
    "# matplotlib.pyplot"
   ]
  },
  {
   "cell_type": "markdown",
   "metadata": {},
   "source": [
    "`matplotlib.pyplot` is a state-based interface to matplotlib. It provides an implicit, MATLAB-like, way of plotting. It also opens figures on your screen, and acts as the figure GUI manager.\n",
    "\n",
    "The explicit (object-oriented) API is recommended for complex plots, though pyplot is still usually used to create the figure and often the axes in the figure. "
   ]
  },
  {
   "cell_type": "markdown",
   "metadata": {},
   "source": [
    "## [API Reference](https://matplotlib.org/stable/api/index.html)\n",
    "\n",
    "### The pyplot API\n",
    "`matplotlib.pyplot` is a collection of functions that make Matplotlib work like MATLAB. Each pyplot function makes some change to a figure: e.g., creates a figure, creates a plotting area in a figure, plots some lines in a plotting area, decorates the plot with labels, etc.\n",
    "\n",
    "`pyplot` is mainly intended for interactive plots and simple cases of programmatic plot generation.\n",
    "\n",
    "Further reading:\n",
    "\n",
    "The matplotlib.pyplot function reference\n",
    "\n",
    "Pyplot tutorial\n",
    "\n",
    "Pyplot examples\n",
    "\n",
    "### The object-oriented API\n",
    "At its core, Matplotlib is object-oriented. We recommend directly working with the objects, if you need more control and customization of your plots.\n",
    "\n",
    "In many cases you will create a Figure and one or more Axes using `pyplot.subplots` and from then on only work on these objects. However, it's also possible to create Figures explicitly (e.g. when including them in GUI applications).\n",
    "\n",
    "Further reading:\n",
    "\n",
    "`matplotlib.axes.Axes` and `matplotlib.figure.Figure` for an overview of\n",
    "plotting functions.\n",
    "\n",
    "Most of the examples use the object-oriented approach\n",
    "(except for the pyplot section)\n",
    "\n"
   ]
  },
  {
   "cell_type": "markdown",
   "metadata": {},
   "source": [
    "![Inheritance](https://matplotlib.org/stable/_images/inheritance-746d7ad5b4a3ecbadc51ab040f5d995f5c6ecc71.png)"
   ]
  }
 ],
 "metadata": {
  "language_info": {
   "name": "python"
  },
  "orig_nbformat": 4
 },
 "nbformat": 4,
 "nbformat_minor": 2
}
