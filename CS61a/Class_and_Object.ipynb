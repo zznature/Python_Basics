{
 "cells": [
  {
   "cell_type": "markdown",
   "metadata": {},
   "source": [
    "# Implementing object-oriented programming(OOP)\n",
    "\n"
   ]
  },
  {
   "cell_type": "markdown",
   "metadata": {},
   "source": [
    "### Properties. \n",
    "The requirement that two or more attribute values maintain a fixed relationship with each other is a new problem. One solution is to store attribute values for only one representation and compute the other representation whenever it is needed.\n",
    "\n",
    "Python has a simple feature for computing attributes on the fly from zero-argument functions. The ```@property``` decorator allows functions to be called without call expression syntax (parentheses following an expression). The ```ComplexRI``` class stores real and imag attributes and computes magnitude and angle on demand.\n",
    "\n"
   ]
  },
  {
   "cell_type": "code",
   "execution_count": null,
   "metadata": {},
   "outputs": [],
   "source": [
    "from math import atan2\n",
    "class ComplexRI(Complex):\n",
    "    def __init__(self, real, imag):\n",
    "        self.real = real\n",
    "        self.imag = imag\n",
    "    @property\n",
    "    def magnitude(self):\n",
    "        return (self.real ** 2 + self.imag ** 2) ** 0.5\n",
    "    @property\n",
    "    def angle(self):\n",
    "        return atan2(self.imag, self.real)\n",
    "        \n",
    "    def __repr__(self):\n",
    "        return 'ComplexRI({0:g}, {1:g})'.format(self.real, self.imag)"
   ]
  }
 ],
 "metadata": {
  "language_info": {
   "name": "python"
  },
  "orig_nbformat": 4
 },
 "nbformat": 4,
 "nbformat_minor": 2
}
