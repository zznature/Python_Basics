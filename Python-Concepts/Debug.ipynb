{
 "cells": [
  {
   "cell_type": "markdown",
   "metadata": {},
   "source": [
    "# How to debug?"
   ]
  },
  {
   "cell_type": "code",
   "execution_count": 16,
   "metadata": {},
   "outputs": [
    {
     "ename": "AssertionError",
     "evalue": "",
     "output_type": "error",
     "traceback": [
      "\u001b[0;31m---------------------------------------------------------------------------\u001b[0m",
      "\u001b[0;31mAssertionError\u001b[0m                            Traceback (most recent call last)",
      "\u001b[0;32m/var/folders/4n/sgq8f8gs20gf_bm_npyzjy8m0000gn/T/ipykernel_24507/4068404972.py\u001b[0m in \u001b[0;36m<cell line: 59>\u001b[0;34m()\u001b[0m\n\u001b[1;32m     57\u001b[0m \u001b[0;34m\u001b[0m\u001b[0m\n\u001b[1;32m     58\u001b[0m \u001b[0;32massert\u001b[0m \u001b[0mcounter\u001b[0m\u001b[0;34m.\u001b[0m\u001b[0mget_counter\u001b[0m\u001b[0;34m(\u001b[0m\u001b[0;34m)\u001b[0m \u001b[0;34m==\u001b[0m \u001b[0;36m10\u001b[0m\u001b[0;34m\u001b[0m\u001b[0;34m\u001b[0m\u001b[0m\n\u001b[0;32m---> 59\u001b[0;31m \u001b[0;32massert\u001b[0m \u001b[0mMyCounter\u001b[0m\u001b[0;34m.\u001b[0m\u001b[0mget_counter\u001b[0m\u001b[0;34m(\u001b[0m\u001b[0mcounter\u001b[0m\u001b[0;34m)\u001b[0m \u001b[0;34m==\u001b[0m \u001b[0;36m0\u001b[0m\u001b[0;34m\u001b[0m\u001b[0;34m\u001b[0m\u001b[0m\n\u001b[0m",
      "\u001b[0;31mAssertionError\u001b[0m: "
     ]
    }
   ],
   "source": [
    "\"\"\"Class Definition Syntax.\n",
    "\n",
    "@see: https://docs.python.org/3/tutorial/classes.html#method-objects\n",
    "\n",
    "Classes can have two types of attribute references: data or methods. Class methods are called\n",
    "by [variable_name].[method_name]([parameters]) as opposed to class data which lacks the ().\n",
    "\"\"\"\n",
    "\n",
    "class MyCounter:\n",
    "    \"\"\"A simple example of the counter class\"\"\"\n",
    "    counter = 10\n",
    "\n",
    "    def get_counter(self):\n",
    "        \"\"\"Return the counter\"\"\"\n",
    "        return self.counter\n",
    "\n",
    "    def increment_counter(self):\n",
    "        \"\"\"Increment the counter\"\"\"\n",
    "        self.counter += 1\n",
    "        return self.counter\n",
    "\n",
    "\n",
    "# def test_method_objects():\n",
    "    \"\"\"Method Objects.\"\"\"\n",
    "\n",
    "    # The other kind of instance attribute reference is a method. A method is a function that\n",
    "    # “belongs to” an object. (In Python, the term method is not unique to class instances: other\n",
    "    # object types can have methods as well. For example, list objects have methods called append,\n",
    "    # insert, remove, sort, and so on. However, in the following discussion, we’ll use the term\n",
    "    # method exclusively to mean methods of class instance objects, unless explicitly stated\n",
    "    # otherwise.)\n",
    "\n",
    "    # But be aware that counter.get_counter() is not the same thing as MyCounter.get_counter() —\n",
    "    # it is a method object, not a function object.\n",
    "\n",
    "# Usually, a method is called right after it is bound\n",
    "counter = MyCounter()\n",
    "assert counter.get_counter() == 10\n",
    "\n",
    "# However, it is not necessary to call a method right away: counter.get_counter() is a method\n",
    "# object, and can be stored away and called at a later time. For example:\n",
    "get_counter = counter.get_counter\n",
    "assert get_counter() == 10\n",
    "\n",
    "# What exactly happens when a method is called? You may have noticed that counter.get_counter()\n",
    "# was called without an argument above, even though the function definition for get_counter()\n",
    "# specified an argument (self). What happened to the argument? Surely Python raises an\n",
    "# exception when a function that requires an argument is called without any — even if the\n",
    "# argument isn’t actually used…\n",
    "\n",
    "# Actually, you may have guessed the answer: the special thing about methods is that the\n",
    "# instance object is passed as the first argument of the function. In our example, the call\n",
    "# counter.get_counter() is exactly equivalent to MyCounter.get_counter(counter). In general,\n",
    "# calling a method with a list of n arguments is equivalent to calling the corresponding\n",
    "# function with an argument list that is created by inserting the method’s instance object\n",
    "# before the first argument.\n",
    "\n",
    "assert counter.get_counter() == 10\n",
    "assert MyCounter.get_counter(counter) == 0\n"
   ]
  },
  {
   "cell_type": "code",
   "execution_count": 8,
   "metadata": {},
   "outputs": [
    {
     "ename": "AssertionError",
     "evalue": "",
     "output_type": "error",
     "traceback": [
      "\u001b[0;31m---------------------------------------------------------------------------\u001b[0m",
      "\u001b[0;31mAssertionError\u001b[0m                            Traceback (most recent call last)",
      "\u001b[0;32m/var/folders/4n/sgq8f8gs20gf_bm_npyzjy8m0000gn/T/ipykernel_24507/1046249426.py\u001b[0m in \u001b[0;36m<cell line: 3>\u001b[0;34m()\u001b[0m\n\u001b[1;32m      1\u001b[0m \u001b[0;31m# Comparison assertions\u001b[0m\u001b[0;34m\u001b[0m\u001b[0;34m\u001b[0m\u001b[0m\n\u001b[1;32m      2\u001b[0m \u001b[0;32massert\u001b[0m \u001b[0;36m3\u001b[0m \u001b[0;34m>\u001b[0m \u001b[0;36m2\u001b[0m\u001b[0;34m\u001b[0m\u001b[0;34m\u001b[0m\u001b[0m\n\u001b[0;32m----> 3\u001b[0;31m \u001b[0;32massert\u001b[0m \u001b[0;36m3\u001b[0m \u001b[0;34m==\u001b[0m \u001b[0;36m2\u001b[0m\u001b[0;34m\u001b[0m\u001b[0;34m\u001b[0m\u001b[0m\n\u001b[0m",
      "\u001b[0;31mAssertionError\u001b[0m: "
     ]
    }
   ],
   "source": [
    "# Comparison assertions\n",
    "assert 3 > 2\n",
    "assert 3 == 2"
   ]
  }
 ],
 "metadata": {
  "kernelspec": {
   "display_name": "base",
   "language": "python",
   "name": "python3"
  },
  "language_info": {
   "codemirror_mode": {
    "name": "ipython",
    "version": 3
   },
   "file_extension": ".py",
   "mimetype": "text/x-python",
   "name": "python",
   "nbconvert_exporter": "python",
   "pygments_lexer": "ipython3",
   "version": "3.9.13"
  },
  "orig_nbformat": 4
 },
 "nbformat": 4,
 "nbformat_minor": 2
}
