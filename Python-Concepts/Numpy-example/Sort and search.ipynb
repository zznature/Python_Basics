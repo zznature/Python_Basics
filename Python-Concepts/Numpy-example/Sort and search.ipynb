{
 "cells": [
  {
   "cell_type": "markdown",
   "metadata": {},
   "source": [
    "# Sort NumPy Arrays By Columns or Rows"
   ]
  },
  {
   "cell_type": "code",
   "execution_count": 1,
   "metadata": {},
   "outputs": [],
   "source": [
    "import numpy as np"
   ]
  },
  {
   "cell_type": "code",
   "execution_count": 2,
   "metadata": {},
   "outputs": [
    {
     "name": "stdout",
     "output_type": "stream",
     "text": [
      "[[46 28 73 54]\n",
      " [65 84 24 72]\n",
      " [14 90 78  0]\n",
      " [31 94 85  5]\n",
      " [18 91 84 62]\n",
      " [91 76 15 25]]\n"
     ]
    }
   ],
   "source": [
    "a = np.random.randint(100, size=(6, 4))\n",
    "print(a)"
   ]
  },
  {
   "cell_type": "code",
   "execution_count": 3,
   "metadata": {},
   "outputs": [
    {
     "name": "stdout",
     "output_type": "stream",
     "text": [
      "[2 4 3 0 1 5]\n"
     ]
    }
   ],
   "source": [
    "b = a[:, 0].argsort()\n",
    "print(b)"
   ]
  },
  {
   "cell_type": "code",
   "execution_count": 5,
   "metadata": {},
   "outputs": [
    {
     "name": "stdout",
     "output_type": "stream",
     "text": [
      "[[14 90 78  0]\n",
      " [18 91 84 62]\n",
      " [31 94 85  5]\n",
      " [46 28 73 54]\n",
      " [65 84 24 72]\n",
      " [91 76 15 25]]\n"
     ]
    }
   ],
   "source": [
    "c = a[a[:, 0].argsort()]\n",
    "print(c)"
   ]
  },
  {
   "cell_type": "markdown",
   "metadata": {},
   "source": [
    "# Seach particular value\n",
    "`np.where()`, `np.nonzero()`"
   ]
  },
  {
   "cell_type": "code",
   "execution_count": 6,
   "metadata": {},
   "outputs": [
    {
     "name": "stdout",
     "output_type": "stream",
     "text": [
      "(array([0]),) (array([300]),) (array([600]),)\n",
      "[12.]\n"
     ]
    }
   ],
   "source": [
    "# test np.where()\n",
    "\n",
    "array_test = np.linspace(12, -12, 601)\n",
    "\n",
    "index0 = np.where(array_test == 12)\n",
    "index1 = np.where(array_test == 0)\n",
    "index2 = np.where(array_test == -12)\n",
    "print(index0, index1, index2)\n",
    "print(array_test[index0])"
   ]
  }
 ],
 "metadata": {
  "kernelspec": {
   "display_name": "Python 3.9.13 ('base')",
   "language": "python",
   "name": "python3"
  },
  "language_info": {
   "codemirror_mode": {
    "name": "ipython",
    "version": 3
   },
   "file_extension": ".py",
   "mimetype": "text/x-python",
   "name": "python",
   "nbconvert_exporter": "python",
   "pygments_lexer": "ipython3",
   "version": "3.9.13"
  },
  "orig_nbformat": 4,
  "vscode": {
   "interpreter": {
    "hash": "d97b34a34154f23aad82ac9dca44873389529a2c7fc64d4e90e79604e7750859"
   }
  }
 },
 "nbformat": 4,
 "nbformat_minor": 2
}
