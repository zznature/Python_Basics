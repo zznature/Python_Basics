{
 "cells": [
  {
   "cell_type": "markdown",
   "metadata": {},
   "source": [
    "# Sort NumPy Arrays By Columns or Rows"
   ]
  },
  {
   "cell_type": "code",
   "execution_count": 1,
   "metadata": {},
   "outputs": [],
   "source": [
    "import numpy as np"
   ]
  },
  {
   "cell_type": "code",
   "execution_count": 2,
   "metadata": {},
   "outputs": [
    {
     "name": "stdout",
     "output_type": "stream",
     "text": [
      "[[12 66 88 71]\n",
      " [41 89  7 36]\n",
      " [90 74 47 79]\n",
      " [84  8 99 52]\n",
      " [75 19 29 57]\n",
      " [41 92 16 92]]\n"
     ]
    }
   ],
   "source": [
    "a = np.random.randint(100, size=(6, 4))\n",
    "print(a)"
   ]
  },
  {
   "cell_type": "code",
   "execution_count": 3,
   "metadata": {},
   "outputs": [
    {
     "name": "stdout",
     "output_type": "stream",
     "text": [
      "[0 1 5 4 3 2]\n"
     ]
    }
   ],
   "source": [
    "b = a[:, 0].argsort()\n",
    "print(b)"
   ]
  },
  {
   "cell_type": "code",
   "execution_count": 4,
   "metadata": {},
   "outputs": [
    {
     "name": "stdout",
     "output_type": "stream",
     "text": [
      "[[12 66 88 71]\n",
      " [41 89  7 36]\n",
      " [41 92 16 92]\n",
      " [75 19 29 57]\n",
      " [84  8 99 52]\n",
      " [90 74 47 79]]\n"
     ]
    }
   ],
   "source": [
    "c = a[a[:, 0].argsort()]\n",
    "print(c)"
   ]
  },
  {
   "cell_type": "markdown",
   "metadata": {},
   "source": [
    "# Seach particular value\n",
    "`np.where()`, `np.nonzero()`"
   ]
  },
  {
   "cell_type": "code",
   "execution_count": 5,
   "metadata": {},
   "outputs": [
    {
     "name": "stdout",
     "output_type": "stream",
     "text": [
      "(array([0], dtype=int64),) (array([300], dtype=int64),) (array([600], dtype=int64),)\n",
      "[12.]\n"
     ]
    }
   ],
   "source": [
    "# test np.where()\n",
    "\n",
    "array_test = np.linspace(12, -12, 601)\n",
    "\n",
    "index0 = np.where(array_test == 12)\n",
    "index1 = np.where(array_test == 0)\n",
    "index2 = np.where(array_test == -12)\n",
    "print(index0, index1, index2)\n",
    "print(array_test[index0])"
   ]
  }
 ],
 "metadata": {
  "kernelspec": {
   "display_name": "Python 3.9.12 ('base')",
   "language": "python",
   "name": "python3"
  },
  "language_info": {
   "codemirror_mode": {
    "name": "ipython",
    "version": 3
   },
   "file_extension": ".py",
   "mimetype": "text/x-python",
   "name": "python",
   "nbconvert_exporter": "python",
   "pygments_lexer": "ipython3",
   "version": "3.9.12"
  },
  "orig_nbformat": 4,
  "vscode": {
   "interpreter": {
    "hash": "ad2bdc8ecc057115af97d19610ffacc2b4e99fae6737bb82f5d7fb13d2f2c186"
   }
  }
 },
 "nbformat": 4,
 "nbformat_minor": 2
}
