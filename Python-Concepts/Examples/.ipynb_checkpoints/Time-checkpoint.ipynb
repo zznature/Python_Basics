{
 "cells": [
  {
   "cell_type": "markdown",
   "metadata": {},
   "source": [
    "# Time module test"
   ]
  },
  {
   "cell_type": "code",
   "execution_count": 1,
   "metadata": {},
   "outputs": [],
   "source": [
    "import time"
   ]
  },
  {
   "cell_type": "code",
   "execution_count": 2,
   "metadata": {},
   "outputs": [
    {
     "data": {
      "text/plain": [
       "time.struct_time(tm_year=2020, tm_mon=12, tm_mday=24, tm_hour=3, tm_min=12, tm_sec=39, tm_wday=3, tm_yday=359, tm_isdst=0)"
      ]
     },
     "execution_count": 2,
     "metadata": {},
     "output_type": "execute_result"
    }
   ],
   "source": [
    "time.gmtime()"
   ]
  },
  {
   "cell_type": "code",
   "execution_count": 3,
   "metadata": {},
   "outputs": [
    {
     "data": {
      "text/plain": [
       "1608779559.110775"
      ]
     },
     "execution_count": 3,
     "metadata": {},
     "output_type": "execute_result"
    }
   ],
   "source": [
    "time.time()"
   ]
  },
  {
   "cell_type": "code",
   "execution_count": 4,
   "metadata": {},
   "outputs": [
    {
     "name": "stdout",
     "output_type": "stream",
     "text": [
      "1608779559.118261\n",
      "1608779560.1194549\n",
      "1608779561.122402\n",
      "1608779562.122658\n",
      "1608779563.122924\n",
      "1608779564.125047\n",
      "1608779565.126716\n",
      "1608779566.127869\n",
      "1608779567.131776\n",
      "1608779568.136323\n"
     ]
    }
   ],
   "source": [
    "for i in range(10):\n",
    "    print(time.time())\n",
    "    time.sleep(1)"
   ]
  },
  {
   "cell_type": "code",
   "execution_count": 5,
   "metadata": {},
   "outputs": [
    {
     "name": "stdout",
     "output_type": "stream",
     "text": [
      "7.867813110351562e-05\n",
      "1.0054399967193604\n",
      "2.0075228214263916\n",
      "3.0096137523651123\n",
      "4.010181665420532\n",
      "5.0139617919921875\n",
      "6.016711711883545\n",
      "7.017331838607788\n",
      "8.018643856048584\n",
      "9.020023584365845\n"
     ]
    }
   ],
   "source": [
    "# get the time consumed between steps\n",
    "a = time.time()\n",
    "for i in range(10):\n",
    "    print(time.time()-a)\n",
    "    time.sleep(1)"
   ]
  },
  {
   "cell_type": "code",
   "execution_count": null,
   "metadata": {},
   "outputs": [],
   "source": []
  }
 ],
 "metadata": {
  "kernelspec": {
   "display_name": "Python 3",
   "language": "python",
   "name": "python3"
  },
  "language_info": {
   "codemirror_mode": {
    "name": "ipython",
    "version": 3
   },
   "file_extension": ".py",
   "mimetype": "text/x-python",
   "name": "python",
   "nbconvert_exporter": "python",
   "pygments_lexer": "ipython3",
   "version": "3.7.4"
  }
 },
 "nbformat": 4,
 "nbformat_minor": 2
}
