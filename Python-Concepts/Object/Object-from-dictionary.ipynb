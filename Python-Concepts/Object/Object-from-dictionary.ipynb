{
 "cells": [
  {
   "cell_type": "markdown",
   "metadata": {},
   "source": [
    "# Object from dictionary\n",
    "\n",
    "面向对象编程（Object-oriented programming，OOP）是一种编程范式或编程风格，一个对象包含了数据和操作数据的函数。刚接触的时候有种很没对象的感觉，窗户纸就是object是dictionary的进阶版本，把字典的键值对和函数的传递结合起来，形成了一个新的数据结构。\n",
    "\n",
    "对象在编程中概括的事务(object)的抽象，可以对一类（class）事物进行实例化。\n",
    "\n",
    "对象的属性（attribute）是类型的状态（state）的抽象，相当于字典中的键值对。\n",
    "\n",
    "对象的方法（method）是类型的行为（behavior）的抽象，相当于字典中的函数的传递。\n",
    "\n",
    "特性（property）是一种特殊的属性，由 getter、setter 和 deleter 方法定义。这些方法允许你改变类中属性的行为。可以使用 `@property` 装饰器将方法定义为特性。\n",
    "\n",
    "| class |  dictionary |\n",
    "|-------|-------------|\n",
    "|object.attribute|key:value|\n",
    "|object.method()|key:function()|\n",
    "\n",
    "self是指向某个实例，类似于复制了一本新的字典，self就指向新copy的名字。\n"
   ]
  },
  {
   "cell_type": "code",
   "execution_count": null,
   "metadata": {},
   "outputs": [],
   "source": [
    "bob = {'department': 'compsci', 'name': 'Bob Smith', 'age': 20, 'absense': 0, \n",
    "        'homework_grade': [90, 97, 75, 92]}"
   ]
  },
  {
   "cell_type": "markdown",
   "metadata": {},
   "source": [
    "| attri_dict | value | property |\n",
    "|----------|----------|----------|\n",
    "| department | text   | protected  |\n",
    "| name   | text   | private  |\n",
    "| age | number | public |\n",
    "|abseent | boolean | public |\n",
    "|homework_grade | array | public |"
   ]
  },
  {
   "cell_type": "markdown",
   "metadata": {},
   "source": [
    "在没有对象概念的语言中，我们可以使用结构体来表示对象。在 Python 中，我们可以使用字典来表示结构体。字典是一种数据结构，它可以将键映射到值。"
   ]
  },
  {
   "cell_type": "code",
   "execution_count": null,
   "metadata": {},
   "outputs": [],
   "source": [
    "# from Composing-Programs 2.6-Implementing Classes and Objects\n",
    "\n",
    "def make_instance(cls):\n",
    "    \"\"\"Return a new object instance, which is a dispatch dictionary.\"\"\"\n",
    "    def get_value(name):\n",
    "        if name in attributes:\n",
    "            return attributes[name]\n",
    "        else:\n",
    "            value = cls['get'](name)\n",
    "            return bind_method(value, instance)\n",
    "    def set_value(name, value):\n",
    "        attributes[name] = value\n",
    "    attributes = {}\n",
    "    instance = {'get': get_value, 'set': set_value}\n",
    "    return instance\n",
    "\n",
    "def bind_method(value, instance):\n",
    "    \"\"\"Return a bound method if value is callable, or value otherwise.\"\"\"\n",
    "    if callable(value):\n",
    "        def method(*args):\n",
    "            return value(instance, *args)\n",
    "        return method\n",
    "    else:\n",
    "        return value"
   ]
  },
  {
   "cell_type": "code",
   "execution_count": null,
   "metadata": {},
   "outputs": [],
   "source": [
    "def object_from_dict(d):\n",
    "    \"\"\"Create an object from a dictionary.\"\"\"\n",
    "    class C(object):\n",
    "        pass\n",
    "    o = C()\n",
    "    for k, v in d.items():\n",
    "        setattr(o, k, v)\n",
    "    return o"
   ]
  }
 ],
 "metadata": {
  "language_info": {
   "name": "python"
  }
 },
 "nbformat": 4,
 "nbformat_minor": 2
}
