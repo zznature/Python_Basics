{
 "cells": [
  {
   "cell_type": "markdown",
   "metadata": {},
   "source": [
    "# Implementing object-oriented programming(OOP)\n",
    "\n"
   ]
  },
  {
   "cell_type": "markdown",
   "metadata": {},
   "source": [
    "### Define a class"
   ]
  },
  {
   "cell_type": "code",
   "execution_count": 1,
   "metadata": {},
   "outputs": [],
   "source": [
    "class Clown:\n",
    "    \"\"\"An illustration of a class statement. This class is not useful.\n",
    "\n",
    "    >>> Clown.nose\n",
    "    'big and red'\n",
    "    >>> Clown.dance()\n",
    "    'No thanks'\n",
    "    \"\"\"\n",
    "    nose = 'big and red'\n",
    "\n",
    "    def dance():\n",
    "        return 'No thanks'\n",
    "\n",
    "\n",
    "class Account:\n",
    "    \"\"\"An account has a balance and a holder.\n",
    "    All accounts share a common interest rate.\n",
    "\n",
    "    >>> a = Account('John')\n",
    "    >>> a.holder\n",
    "    'John'\n",
    "    >>> a.deposit(100)\n",
    "    100\n",
    "    >>> a.withdraw(90)\n",
    "    10\n",
    "    >>> a.withdraw(90)\n",
    "    'Insufficient funds'\n",
    "    >>> a.balance\n",
    "    10\n",
    "    >>> a.interest\n",
    "    0.02\n",
    "    >>> Account.interest = 0.04\n",
    "    >>> a.interest\n",
    "    0.04\n",
    "    \"\"\"\n",
    "\n",
    "    interest = 0.02  # A class attribute\n",
    "\n",
    "    def __init__(self, account_holder):\n",
    "        self.holder = account_holder\n",
    "        self.balance = 0\n",
    "\n",
    "    def deposit(self, amount):\n",
    "        \"\"\"Add amount to balance.\"\"\"\n",
    "        self.balance = self.balance + amount\n",
    "        return self.balance\n",
    "\n",
    "    def withdraw(self, amount):\n",
    "        \"\"\"Subtract amount from balance if funds are available.\"\"\"\n",
    "        if amount > self.balance:\n",
    "            return 'Insufficient funds'\n",
    "        self.balance = self.balance - amount\n",
    "        return self.balance\n"
   ]
  },
  {
   "cell_type": "markdown",
   "metadata": {},
   "source": [
    "### Initialization. \n",
    "The new function in make_class calls init_instance, which first makes a new instance, then invokes a method called __init__."
   ]
  },
  {
   "cell_type": "code",
   "execution_count": null,
   "metadata": {},
   "outputs": [],
   "source": [
    "def init_instance(cls, *args):\n",
    "    \"\"\"Return a new object with type cls, initialized with args.\"\"\"\n",
    "    instance = make_instance(cls)\n",
    "    init = cls['get']('__init__')\n",
    "    if init:\n",
    "        init(instance, *args)\n",
    "    return instance"
   ]
  },
  {
   "cell_type": "markdown",
   "metadata": {},
   "source": [
    "Our object system built upon dictionaries is quite similar in implementation to the built-in object system in Python. In Python, an instance of any user-defined class has a special attribute __dict__ that stores the local instance attributes for that object in a dictionary, much like our attributes dictionary."
   ]
  },
  {
   "cell_type": "markdown",
   "metadata": {},
   "source": [
    "### Properties. \n",
    "The requirement that two or more attribute values maintain a fixed relationship with each other is a new problem. One solution is to store attribute values for only one representation and compute the other representation whenever it is needed.\n",
    "\n",
    "Python has a simple feature for computing attributes on the fly from zero-argument functions. The ```@property``` decorator allows functions to be called without call expression syntax (parentheses following an expression). The ```ComplexRI``` class stores real and imag attributes and computes magnitude and angle on demand.\n",
    "\n"
   ]
  },
  {
   "cell_type": "code",
   "execution_count": null,
   "metadata": {},
   "outputs": [],
   "source": [
    "from math import atan2\n",
    "class ComplexRI(Complex):\n",
    "    def __init__(self, real, imag):\n",
    "        self.real = real\n",
    "        self.imag = imag\n",
    "    @property\n",
    "    def magnitude(self):\n",
    "        return (self.real ** 2 + self.imag ** 2) ** 0.5\n",
    "    @property\n",
    "    def angle(self):\n",
    "        return atan2(self.imag, self.real)\n",
    "        \n",
    "    def __repr__(self):\n",
    "        return 'ComplexRI({0:g}, {1:g})'.format(self.real, self.imag)"
   ]
  }
 ],
 "metadata": {
  "interpreter": {
   "hash": "8fdff399fcb569556feca9492b2b24eb7759cd3bb1b439d9fa03398f230501f8"
  },
  "kernelspec": {
   "display_name": "Python 3.9.6 64-bit ('python3': conda)",
   "language": "python",
   "name": "python3"
  },
  "language_info": {
   "codemirror_mode": {
    "name": "ipython",
    "version": 3
   },
   "file_extension": ".py",
   "mimetype": "text/x-python",
   "name": "python",
   "nbconvert_exporter": "python",
   "pygments_lexer": "ipython3",
   "version": "3.9.6"
  },
  "orig_nbformat": 4
 },
 "nbformat": 4,
 "nbformat_minor": 2
}
