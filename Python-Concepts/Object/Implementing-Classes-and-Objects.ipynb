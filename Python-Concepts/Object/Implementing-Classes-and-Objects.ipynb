{
 "cells": [
  {
   "cell_type": "markdown",
   "metadata": {},
   "source": [
    "# Implementing Classes and Objects"
   ]
  },
  {
   "cell_type": "markdown",
   "metadata": {},
   "source": [
    "### ```attributes``` dictionary\n",
    "\n",
    "Our object system built upon **dictionaries** is quite similar in implementation to the built-in object system in Python. In Python, an instance of any user-defined class has a special attribute ```__dict__``` that stores the local instance attributes for that object in a dictionary, much like our ```attributes``` dictionary. Python differs because it distinguishes certain special methods that interact with built-in functions to ensure that those functions behave correctly for arguments of many different types.\n"
   ]
  },
  {
   "cell_type": "markdown",
   "metadata": {},
   "source": [
    "### object metaphor\n",
    "\n",
    "Most logic about how to represent and manipulate data is expressed within class declarations. In this section, we see that classes and objects can themselves be represented using just functions and dictionaries. The purpose of implementing an object system in this way is to illustrate that using the object metaphor does not require a special programming language. Programs can be object-oriented, even in programming languages that do not have a built-in object system.\n",
    "\n",
    "In order to implement objects, we will abandon dot notation (which does require built-in language support), but create dispatch dictionaries that behave in much the same way as the elements of the built-in object system. We have already seen how to implement message-passing behavior through dispatch dictionaries. To implement an object system in full, we send messages between instances, classes, and base classes, all of which are dictionaries that contain attributes.\n",
    "\n",
    "We will not implement the entire Python object system, which includes features that we have not covered in this text (e.g., meta-classes and static methods). We will focus instead on user-defined classes without multiple inheritance and without introspective behavior (such as returning the class of an instance). Our implementation is not meant to follow the precise specification of the Python type system. Instead, it is designed to implement the core functionality that enables the object metaphor."
   ]
  },
  {
   "cell_type": "markdown",
   "metadata": {},
   "source": [
    "### Initialization. \n",
    "The new function in make_class calls init_instance, which first makes a new instance, then invokes a method called ```__init__```."
   ]
  },
  {
   "cell_type": "code",
   "execution_count": null,
   "metadata": {},
   "outputs": [],
   "source": [
    "def init_instance(cls, *args):\n",
    "    \"\"\"Return a new object with type cls, initialized with args.\"\"\"\n",
    "    instance = make_instance(cls)\n",
    "    init = cls['get']('__init__')\n",
    "    if init:\n",
    "        init(instance, *args)\n",
    "    return instance"
   ]
  },
  {
   "cell_type": "markdown",
   "metadata": {},
   "source": [
    "### Properties. \n",
    "The requirement that two or more attribute values maintain a fixed relationship with each other is a new problem. One solution is to store attribute values for only one representation and compute the other representation whenever it is needed.\n",
    "\n",
    "Python has a simple feature for computing attributes on the fly from zero-argument functions. The ```@property``` decorator allows functions to be called without call expression syntax (parentheses following an expression). The ```ComplexRI``` class stores real and imag attributes and computes magnitude and angle on demand.\n",
    "\n"
   ]
  },
  {
   "cell_type": "code",
   "execution_count": null,
   "metadata": {},
   "outputs": [],
   "source": [
    "from math import atan2\n",
    "class ComplexRI(Complex):\n",
    "    def __init__(self, real, imag):\n",
    "        self.real = real\n",
    "        self.imag = imag\n",
    "    @property\n",
    "    def magnitude(self):\n",
    "        return (self.real ** 2 + self.imag ** 2) ** 0.5\n",
    "    @property\n",
    "    def angle(self):\n",
    "        return atan2(self.imag, self.real)\n",
    "        \n",
    "    def __repr__(self):\n",
    "        return 'ComplexRI({0:g}, {1:g})'.format(self.real, self.imag)"
   ]
  }
 ],
 "metadata": {
  "interpreter": {
   "hash": "8fdff399fcb569556feca9492b2b24eb7759cd3bb1b439d9fa03398f230501f8"
  },
  "kernelspec": {
   "display_name": "Python 3.9.6 64-bit ('python3': conda)",
   "language": "python",
   "name": "python3"
  },
  "language_info": {
   "codemirror_mode": {
    "name": "ipython",
    "version": 3
   },
   "file_extension": ".py",
   "mimetype": "text/x-python",
   "name": "python",
   "nbconvert_exporter": "python",
   "pygments_lexer": "ipython3",
   "version": "3.9.6"
  },
  "orig_nbformat": 4
 },
 "nbformat": 4,
 "nbformat_minor": 2
}
