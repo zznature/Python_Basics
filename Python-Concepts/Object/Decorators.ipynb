{
 "cells": [
  {
   "cell_type": "markdown",
   "metadata": {},
   "source": [
    "# Decorators\n",
    "\n",
    "Decorate the kid functions.\n",
    "Function of functions."
   ]
  },
  {
   "cell_type": "markdown",
   "metadata": {},
   "source": [
    "## How to build a decorating function?\n",
    "\n",
    "```\n",
    "def deco_func():\n",
    "\n",
    "    def func():\n",
    "\n",
    "        return certain_result\n",
    "\n",
    "    return func\n",
    "```"
   ]
  },
  {
   "cell_type": "code",
   "execution_count": 1,
   "metadata": {},
   "outputs": [],
   "source": [
    "from functools import wraps\n",
    "import time\n",
    "import logging\n",
    "\n",
    "def my_logger(orig_func):\n",
    "    \n",
    "    logging.basicConfig(filename='{}.log'.format(orig_func.__name__), level=logging.INFO)\n",
    "\n",
    "    @wraps(orig_func)\n",
    "    def wrapper(*args, **kwargs):\n",
    "        logging.info(\n",
    "            'Ran with args: {}, and kwargs: {}'.format(args, kwargs))\n",
    "        return orig_func(*args, **kwargs)\n",
    "\n",
    "    return wrapper"
   ]
  },
  {
   "cell_type": "code",
   "execution_count": 2,
   "metadata": {},
   "outputs": [],
   "source": [
    "def my_timer(orig_func):\n",
    "\n",
    "    @wraps(orig_func)\n",
    "    def wrapper(*args, **kwargs):\n",
    "        t1 = time.time()\n",
    "        result = orig_func(*args, **kwargs)\n",
    "        t2 = time.time() - t1\n",
    "        print('{} ran in: {}, {} sec'.format(orig_func.__name__,t1, t2))\n",
    "        return result\n",
    "\n",
    "    return wrapper"
   ]
  },
  {
   "cell_type": "code",
   "execution_count": 3,
   "metadata": {},
   "outputs": [
    {
     "name": "stdout",
     "output_type": "stream",
     "text": [
      "display_info ran with arguments (Tom, 22)\n",
      "display_info ran in: 1652457532.443538, 1.0043981075286865 sec\n",
      "display_info ran with arguments (Jerry, 23)\n",
      "display_info ran in: 1652457533.455039, 1.0047359466552734 sec\n"
     ]
    }
   ],
   "source": [
    "@my_logger\n",
    "@my_timer\n",
    "def display_info(name, age, gender):\n",
    "    time.sleep(1)\n",
    "    print('display_info ran with arguments ({}, {})'.format(name, age))\n",
    "\n",
    "display_info('Tom',age= 22, gender='male')\n",
    "display_info('Jerry',age= 23, gender='male')"
   ]
  },
  {
   "cell_type": "markdown",
   "metadata": {},
   "source": [
    "## Common class decorators\n",
    "\n",
    "`@property`, `@static_method`"
   ]
  },
  {
   "cell_type": "markdown",
   "metadata": {},
   "source": [
    "### `@static_method`\n",
    "\n",
    "To indicate a method within a class that's bound to the class and not the instance of the class.\n",
    "This means the method can be called on the class itself, rather than on an instance of the class.\n",
    "\n",
    "Here's a basic example:\n",
    "\n"
   ]
  },
  {
   "cell_type": "code",
   "execution_count": null,
   "metadata": {},
   "outputs": [],
   "source": [
    "class MyClass:\n",
    "    count = 0\n",
    "\n",
    "    def __init__(self):\n",
    "        MyClass.count += 1\n",
    "\n",
    "    @classmethod\n",
    "    def instance_count(cls):\n",
    "        return cls.count"
   ]
  },
  {
   "cell_type": "markdown",
   "metadata": {},
   "source": [
    "\n",
    "\n",
    "In this example, `instance_count` is a class method that returns the number of instances of `MyClass` that have been created. You can call it on the class itself, like `MyClass.instance_count()`, without creating an instance of the class.\n",
    "\n",
    "Class methods take a first parameter that's a reference to the class (`cls` by convention), rather than the instance (`self`). They can modify class state that applies across all instances of the class."
   ]
  },
  {
   "cell_type": "markdown",
   "metadata": {},
   "source": [
    "### `@property` decorator\n",
    "\n",
    "To define methods in a class that should be treated as a read-only attribute. Here is a basic example:\n",
    "\n"
   ]
  },
  {
   "cell_type": "code",
   "execution_count": null,
   "metadata": {},
   "outputs": [],
   "source": [
    "class MyClass:\n",
    "    def __init__(self):\n",
    "        self._my_attr = 0\n",
    "\n",
    "    @property\n",
    "    def my_attr(self):\n",
    "        return self._my_attr"
   ]
  },
  {
   "cell_type": "markdown",
   "metadata": {},
   "source": [
    "\n",
    "\n",
    "In this example, `my_attr` is a property of `MyClass`. It's read-only, and returns the value of the `_my_attr` attribute. \n",
    "\n",
    "You can also use the `@property` decorator to create setter and deleter methods for the property:\n",
    "\n"
   ]
  },
  {
   "cell_type": "code",
   "execution_count": null,
   "metadata": {},
   "outputs": [],
   "source": [
    "class MyClass:\n",
    "    def __init__(self):\n",
    "        self._my_attr = 0\n",
    "\n",
    "    @property\n",
    "    def my_attr(self):\n",
    "        return self._my_attr\n",
    "\n",
    "    @my_attr.setter\n",
    "    def my_attr(self, value):\n",
    "        if value < 0:\n",
    "            raise ValueError(\"my_attr must be positive\")\n",
    "        self._my_attr = value\n",
    "\n",
    "    @my_attr.deleter\n",
    "    def my_attr(self):\n",
    "        del self._my_attr"
   ]
  },
  {
   "cell_type": "markdown",
   "metadata": {},
   "source": [
    "\n",
    "\n",
    "In this example, you can set the `my_attr` property with a positive value, and delete it. If you try to set it with a negative value, it raises a `ValueError`."
   ]
  }
 ],
 "metadata": {
  "interpreter": {
   "hash": "40d3a090f54c6569ab1632332b64b2c03c39dcf918b08424e98f38b5ae0af88f"
  },
  "kernelspec": {
   "display_name": "Python 3.8.5",
   "language": "python",
   "name": "python3"
  },
  "language_info": {
   "codemirror_mode": {
    "name": "ipython",
    "version": 3
   },
   "file_extension": ".py",
   "mimetype": "text/x-python",
   "name": "python",
   "nbconvert_exporter": "python",
   "pygments_lexer": "ipython3",
   "version": "3.8.5"
  },
  "orig_nbformat": 4
 },
 "nbformat": 4,
 "nbformat_minor": 2
}
