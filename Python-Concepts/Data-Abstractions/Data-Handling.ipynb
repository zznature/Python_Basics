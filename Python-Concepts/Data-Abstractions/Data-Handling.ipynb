{
 "cells": [
  {
   "cell_type": "markdown",
   "metadata": {},
   "source": [
    "# Data Handling"
   ]
  },
  {
   "cell_type": "markdown",
   "metadata": {},
   "source": [
    "程序是用来处理信息的，涉及到数据的输入、存储、处理和输出。"
   ]
  },
  {
   "cell_type": "markdown",
   "metadata": {},
   "source": [
    "### 存储位置\n",
    "\n",
    "有效范围"
   ]
  },
  {
   "cell_type": "code",
   "execution_count": 2,
   "metadata": {},
   "outputs": [],
   "source": [
    "def func(x):\n",
    "    return x * x"
   ]
  },
  {
   "cell_type": "code",
   "execution_count": 3,
   "metadata": {},
   "outputs": [
    {
     "name": "stdout",
     "output_type": "stream",
     "text": [
      "<function func at 0x105cd3940>\n",
      "4\n"
     ]
    }
   ],
   "source": [
    "print(func)  # 能否从存储地址直接调用？机器代码\n",
    "print(func(2))"
   ]
  },
  {
   "cell_type": "markdown",
   "metadata": {},
   "source": [
    "## 数据格式\n",
    "\n",
    "数据的类型和包装的方式。\n",
    "\n",
    "类型有：数值，文本，布尔\n",
    "\n",
    "数据结构：list，array，tuple\n"
   ]
  },
  {
   "cell_type": "markdown",
   "metadata": {},
   "source": [
    "### 调用方式\n",
    "\n",
    "名称调用\n",
    "\n",
    "Namespaces are one honking great idea -- let's do more of those!"
   ]
  }
 ],
 "metadata": {
  "interpreter": {
   "hash": "8fdff399fcb569556feca9492b2b24eb7759cd3bb1b439d9fa03398f230501f8"
  },
  "kernelspec": {
   "display_name": "Python 3.9.6 ('python3')",
   "language": "python",
   "name": "python3"
  },
  "language_info": {
   "codemirror_mode": {
    "name": "ipython",
    "version": 3
   },
   "file_extension": ".py",
   "mimetype": "text/x-python",
   "name": "python",
   "nbconvert_exporter": "python",
   "pygments_lexer": "ipython3",
   "version": "3.9.13"
  },
  "orig_nbformat": 4
 },
 "nbformat": 4,
 "nbformat_minor": 2
}
