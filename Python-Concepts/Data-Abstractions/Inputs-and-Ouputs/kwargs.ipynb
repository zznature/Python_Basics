{
 "cells": [
  {
   "cell_type": "markdown",
   "metadata": {},
   "source": [
    "## Arguments and Keyword arguments"
   ]
  },
  {
   "cell_type": "code",
   "execution_count": 9,
   "metadata": {},
   "outputs": [
    {
     "name": "stdout",
     "output_type": "stream",
     "text": [
      "Paris\n",
      "('Monday', 100)\n",
      "Monday 100\n",
      "{'Italy': 2, 'French': 3, 'Potato': 4}\n",
      "Italy French Potato\n"
     ]
    }
   ],
   "source": [
    "def f(arguments, *args, **kwargs):\n",
    "    print(arguments)\n",
    "    print(args)\n",
    "    print(*args)\n",
    "    print(kwargs)\n",
    "    print(*kwargs)\n",
    "    # print(tuple(*args))\n",
    "    # print(**kwargs) \n",
    "\n",
    "f('Paris', 'Monday', 100, Italy=2, French=3, Potato=4)"
   ]
  },
  {
   "cell_type": "markdown",
   "metadata": {},
   "source": [
    "arguments should be a tuple.\n",
    "\n",
    "'*' changes into tuple.\n",
    " \n",
    "'**' changes into dictionary."
   ]
  }
 ],
 "metadata": {
  "interpreter": {
   "hash": "8fdff399fcb569556feca9492b2b24eb7759cd3bb1b439d9fa03398f230501f8"
  },
  "kernelspec": {
   "display_name": "Python 3.9.6 64-bit ('python3': conda)",
   "language": "python",
   "name": "python3"
  },
  "language_info": {
   "codemirror_mode": {
    "name": "ipython",
    "version": 3
   },
   "file_extension": ".py",
   "mimetype": "text/x-python",
   "name": "python",
   "nbconvert_exporter": "python",
   "pygments_lexer": "ipython3",
   "version": "3.9.6"
  },
  "orig_nbformat": 4
 },
 "nbformat": 4,
 "nbformat_minor": 2
}
