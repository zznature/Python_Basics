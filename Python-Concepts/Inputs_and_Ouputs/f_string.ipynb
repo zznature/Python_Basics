{
 "cells": [
  {
   "cell_type": "code",
   "execution_count": 2,
   "metadata": {},
   "outputs": [
    {
     "name": "stdout",
     "output_type": "stream",
     "text": [
      "the value is other 🐶\n",
      "num_value = 123\n",
      "num_value % 2 = 1\n",
      "other 🐶\n",
      "'other 🐶'\n",
      "now=2021-12-12\n",
      "123.46\n",
      "MyClass __format__ called with format_spec='blah blah %%MYFORMAT%%'\n",
      "MyClass()\n",
      "123.46\n"
     ]
    }
   ],
   "source": [
    "import datetime\n",
    "\n",
    "\"\"\" f-strings \"\"\"\n",
    "\n",
    "def equals_debugging():\n",
    "    str_value = \"other 🐶\"\n",
    "    num_value = 123\n",
    "    print(f'the value is {str_value}')\n",
    "    print(f'{num_value = }')\n",
    "    print(f'{num_value % 2 = }')\n",
    "\n",
    "\n",
    "def conversions():\n",
    "    str_value = \"other 🐶\"\n",
    "    print(f'{str_value!s}')\n",
    "    print(f'{str_value!r}')\n",
    "\n",
    "\n",
    "class MyClass:\n",
    "    def __format__(self, format_spec) -> str:\n",
    "        print(f'MyClass __format__ called with {format_spec=!r}')\n",
    "        return \"MyClass()\"\n",
    "\n",
    "\n",
    "def formatting():\n",
    "    num_value = 123.456\n",
    "    now = datetime.datetime.utcnow()\n",
    "    print(f'{now=:%Y-%m-%d}')\n",
    "    print(f'{num_value:.2f}')\n",
    "    print(f'{MyClass():blah blah %%MYFORMAT%%}')\n",
    "\n",
    "    nested_format = \".2f\"\n",
    "    print(f'{num_value:{nested_format}}')\n",
    "\n",
    "\n",
    "def main():\n",
    "    equals_debugging()\n",
    "    conversions()\n",
    "    formatting()\n",
    "\n",
    "\n",
    "if __name__ == '__main__':\n",
    "    main()"
   ]
  }
 ],
 "metadata": {
  "interpreter": {
   "hash": "8fdff399fcb569556feca9492b2b24eb7759cd3bb1b439d9fa03398f230501f8"
  },
  "kernelspec": {
   "display_name": "Python 3.9.6 64-bit ('python3': conda)",
   "language": "python",
   "name": "python3"
  },
  "language_info": {
   "codemirror_mode": {
    "name": "ipython",
    "version": 3
   },
   "file_extension": ".py",
   "mimetype": "text/x-python",
   "name": "python",
   "nbconvert_exporter": "python",
   "pygments_lexer": "ipython3",
   "version": "3.9.6"
  },
  "orig_nbformat": 4
 },
 "nbformat": 4,
 "nbformat_minor": 2
}
