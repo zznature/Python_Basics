{
 "cells": [
  {
   "cell_type": "markdown",
   "metadata": {},
   "source": [
    "## Q1: Weights"
   ]
  },
  {
   "cell_type": "code",
   "execution_count": 10,
   "metadata": {},
   "outputs": [],
   "source": [
    "def mobile(left, right):\n",
    "    \"\"\"Construct a mobile from a left arm and a right arm.\"\"\"\n",
    "    assert is_arm(left), \"left must be a arm\"\n",
    "    assert is_arm(right), \"right must be a arm\"\n",
    "    return ['mobile', left, right]\n",
    "\n",
    "def is_mobile(m):\n",
    "    \"\"\"Return whether m is a mobile.\"\"\"\n",
    "    return type(m) == list and len(m) == 3 and m[0] == 'mobile'\n",
    "\n",
    "def left(m):\n",
    "    \"\"\"Select the left arm of a mobile.\"\"\"\n",
    "    assert is_mobile(m), \"must call left on a mobile\"\n",
    "    return m[1]\n",
    "\n",
    "def right(m):\n",
    "    \"\"\"Select the right arm of a mobile.\"\"\"\n",
    "    assert is_mobile(m), \"must call right on a mobile\"\n",
    "    return m[2]"
   ]
  },
  {
   "cell_type": "code",
   "execution_count": 14,
   "metadata": {},
   "outputs": [],
   "source": [
    "def arm(length, mobile_or_planet):\n",
    "    \"\"\"Construct a arm: a length of rod with a mobile or planet at the end.\"\"\"\n",
    "    assert is_mobile(mobile_or_planet) or is_planet(mobile_or_planet)\n",
    "    return ['arm', length, mobile_or_planet]\n",
    "\n",
    "def is_arm(s):\n",
    "    \"\"\"Return whether s is a arm.\"\"\"\n",
    "    return type(s) == list and len(s) == 3 and s[0] == 'arm'\n",
    "\n",
    "def length(s):\n",
    "    \"\"\"Select the length of a arm.\"\"\"\n",
    "    assert is_arm(s), \"must call length on a arm\"\n",
    "    return s[1]\n",
    "\n",
    "def end(s):\n",
    "    \"\"\"Select the mobile or planet hanging at the end of a arm.\"\"\"\n",
    "    assert is_arm(s), \"must call end on a arm\"\n",
    "    return s[2]"
   ]
  },
  {
   "cell_type": "markdown",
   "metadata": {},
   "source": [
    "Code to be finished"
   ]
  },
  {
   "cell_type": "code",
   "execution_count": 17,
   "metadata": {},
   "outputs": [],
   "source": [
    "def planet(size):\n",
    "    \"\"\"Construct a planet of some size.\"\"\"\n",
    "    assert size > 0\n",
    "#    \"*** YOUR CODE HERE ***\"\n",
    "    return ['planet', size]\n",
    "\n",
    "def size(w):\n",
    "    \"\"\"Select the size of a planet.\"\"\"\n",
    "    assert is_planet(w), 'must call size on a planet'\n",
    "#    \"*** YOUR CODE HERE ***\"\n",
    "    return w[1]\n",
    "\n",
    "def is_planet(w):\n",
    "    \"\"\"Whether w is a planet.\"\"\"\n",
    "    return type(w) == list and len(w) == 2 and w[0] == 'planet'"
   ]
  },
  {
   "cell_type": "code",
   "execution_count": 15,
   "metadata": {},
   "outputs": [],
   "source": [
    "def examples():\n",
    "    t = mobile(arm(1, planet(2)),\n",
    "               arm(2, planet(1)))\n",
    "    u = mobile(arm(5, planet(1)),\n",
    "               arm(1, mobile(arm(2, planet(3)),\n",
    "                              arm(3, planet(2)))))\n",
    "    v = mobile(arm(4, t), arm(2, u))\n",
    "    return (t, u, v)\n",
    "\n",
    "def total_weight(m):\n",
    "    \"\"\"Return the total weight of m, a planet or mobile.\n",
    "\n",
    "    >>> t, u, v = examples()\n",
    "    >>> total_weight(t)\n",
    "    3\n",
    "    >>> total_weight(u)\n",
    "    6\n",
    "    >>> total_weight(v)\n",
    "    9\n",
    "    >>> from construct_check import check\n",
    "    >>> # checking for abstraction barrier violations by banning indexing\n",
    "    >>> check(HW_SOURCE_FILE, 'total_weight', ['Index'])\n",
    "    True\n",
    "    \"\"\"\n",
    "    if is_planet(m):\n",
    "        return size(m)\n",
    "    else:\n",
    "        assert is_mobile(m), \"must get total weight of a mobile or a planet\"\n",
    "        return total_weight(end(left(m))) + total_weight(end(right(m)))"
   ]
  },
  {
   "cell_type": "code",
   "execution_count": 18,
   "metadata": {},
   "outputs": [],
   "source": [
    "t, u, v = examples()"
   ]
  },
  {
   "cell_type": "code",
   "execution_count": 19,
   "metadata": {},
   "outputs": [
    {
     "data": {
      "text/plain": [
       "9"
      ]
     },
     "execution_count": 19,
     "metadata": {},
     "output_type": "execute_result"
    }
   ],
   "source": [
    "total_weight(t)\n",
    "total_weight(u)\n",
    "total_weight(v)"
   ]
  },
  {
   "cell_type": "markdown",
   "metadata": {},
   "source": [
    "### Q2: Balanced\n",
    "Implement the balanced function, which returns whether m is a balanced mobile. A mobile is balanced if two conditions are met:\n",
    "\n",
    "The torque applied by its left arm is equal to that applied by its right arm. The torque of the left arm is the length of the left rod multiplied by the total weight hanging from that rod. Likewise for the right. For example, if the left arm has a length of 5, and there is a mobile hanging at the end of the left arm of weight 10, the torque on the left side of our mobile is 50.\n",
    "Each of the mobiles hanging at the end of its arms is balanced.\n",
    "Planets themselves are balanced, as there is nothing hanging off of them."
   ]
  },
  {
   "cell_type": "code",
   "execution_count": null,
   "metadata": {},
   "outputs": [],
   "source": [
    "def balanced(m):\n",
    "    \"\"\"Return whether m is balanced.\n",
    "\n",
    "    >>> t, u, v = examples()\n",
    "    >>> balanced(t)\n",
    "    True\n",
    "    >>> balanced(v)\n",
    "    True\n",
    "    >>> w = mobile(arm(3, t), arm(2, u))\n",
    "    >>> balanced(w)\n",
    "    False\n",
    "    >>> balanced(mobile(arm(1, v), arm(1, w)))\n",
    "    False\n",
    "    >>> balanced(mobile(arm(1, w), arm(1, v)))\n",
    "    False\n",
    "    >>> from construct_check import check\n",
    "    >>> # checking for abstraction barrier violations by banning indexing\n",
    "    >>> check(HW_SOURCE_FILE, 'balanced', ['Index'])\n",
    "    True\n",
    "    \"\"\"\n",
    "    #   \"*** YOUR CODE HERE ***\"\n",
    "    return balanced()"
   ]
  }
 ],
 "metadata": {
  "kernelspec": {
   "display_name": "Python 3",
   "language": "python",
   "name": "python3"
  },
  "language_info": {
   "codemirror_mode": {
    "name": "ipython",
    "version": 3
   },
   "file_extension": ".py",
   "mimetype": "text/x-python",
   "name": "python",
   "nbconvert_exporter": "python",
   "pygments_lexer": "ipython3",
   "version": "3.7.4"
  }
 },
 "nbformat": 4,
 "nbformat_minor": 2
}
