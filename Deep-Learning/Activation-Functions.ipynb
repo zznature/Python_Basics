{
 "cells": [
  {
   "cell_type": "markdown",
   "metadata": {},
   "source": [
    "# Activation functions\n"
   ]
  },
  {
   "cell_type": "markdown",
   "metadata": {},
   "source": [
    "[“What neuron type should I use?”](https://cs231n.github.io/neural-networks-1/#actfun)\n",
    "\n",
    "- Use the ReLU non-linearity, be careful with your learning rates and possibly monitor the fraction of “dead” units in a network. \n",
    "- If this concerns you, give Leaky ReLU or Maxout a try. \n",
    "- Never use sigmoid. \n",
    "- Try tanh, but expect it to work worse than ReLU/Maxout."
   ]
  }
 ],
 "metadata": {
  "kernelspec": {
   "display_name": "Python 3.9.12 ('base')",
   "language": "python",
   "name": "python3"
  },
  "language_info": {
   "codemirror_mode": {
    "name": "ipython",
    "version": 3
   },
   "file_extension": ".py",
   "mimetype": "text/x-python",
   "name": "python",
   "nbconvert_exporter": "python",
   "pygments_lexer": "ipython3",
   "version": "3.9.12"
  },
  "orig_nbformat": 4,
  "vscode": {
   "interpreter": {
    "hash": "ad2bdc8ecc057115af97d19610ffacc2b4e99fae6737bb82f5d7fb13d2f2c186"
   }
  }
 },
 "nbformat": 4,
 "nbformat_minor": 2
}
